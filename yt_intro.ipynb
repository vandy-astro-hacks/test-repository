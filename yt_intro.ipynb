{
 "metadata": {
  "name": "yt_intro"
 },
 "nbformat": 3,
 "nbformat_minor": 0,
 "worksheets": [
  {
   "cells": [
    {
     "cell_type": "heading",
     "level": 1,
     "metadata": {},
     "source": [
      "What is yt?"
     ]
    },
    {
     "cell_type": "markdown",
     "metadata": {},
     "source": [
      "The yt [docs](http://yt-project.org/docs/dev/index.html) give more in depth, but overall yt provides tools for **analyzing numerical simulations produced by a wide variety of codes** including both particle based (e.g. Gadget-2, Gasoline) and mesh based (e.g. ENZO). Using yt you can\n",
      "\n",
      "* load simulations snapshots for easy access to fields\n",
      "* keep track of units\n",
      "* calculate additional fields and statistics\n",
      "* plot\n"
     ]
    },
    {
     "cell_type": "heading",
     "level": 1,
     "metadata": {},
     "source": [
      "Installing yt"
     ]
    },
    {
     "cell_type": "markdown",
     "metadata": {},
     "source": [
      "For particle codes (which most of us use), we need the development branch. Full instructions for other installation methods can be found [here](http://yt-project.org/docs/dev/installing.html).\n",
      "\n",
      "First, clone the repository using mercurial\n",
      "\n",
      "    $ hg clone https://bitbucket.org/yt_analysis/yt\n",
      "    $ cd yt\n",
      "    $ hg update yt\n",
      "    $ python setup.py install --user --prefix=\n",
      "\n",
      "If you are installing on your own machine, leave off the `--user --prefix=`.\n",
      "\n",
      "Then open python and make sure you can import yt."
     ]
    },
    {
     "cell_type": "code",
     "collapsed": false,
     "input": [
      "import yt"
     ],
     "language": "python",
     "metadata": {},
     "outputs": [],
     "prompt_number": "*"
    },
    {
     "cell_type": "heading",
     "level": 1,
     "metadata": {},
     "source": [
      "Getting the Test Data"
     ]
    },
    {
     "cell_type": "markdown",
     "metadata": {},
     "source": [
      "yt provides test data for a wide variety of simulations [here](http://yt-project.org/data/). For this tutorial, we will use three test datasets including two SPH snapshots (one Gadget isolated galaxy and one Gasoline cosmological box) and one ENZO snapshot. \n",
      "\n",
      "In your home directory, create a new directory called `yt_datasets`. \n",
      "\n",
      "    $ cd\n",
      "    $ mkdir yt_datasets\n",
      "\n",
      "Then download the `GadgetDiskGalaxy`, `agora_1e11.00400`, and `enzo_tiny_cosmology` data sets from the [yt dataset page](http://yt-project.org/data/). Note: this can take a while...\n",
      "\n",
      "    $ cd yt_datasets\n",
      "    $ wget http://yt-project.org/data/GadgetDiskGalaxy.tar.gz\n",
      "    $ wget http://yt-project.org/data/agora_1e11.00400.tar.gz\n",
      "    $ wget http://yt-project.org/data/enzo_tiny_cosmology.tar.gz\n",
      "\n",
      "and unpack the data sets\n",
      "\n",
      "    $ tar -xvzf GadgetDiskGalaxy.tar.gz\n",
      "    $ tar -xvzf agora_1e11.00400.tar.gz\n",
      "    $ tar -xvzf enzo_tiny_cosmology.tar.gz\n",
      "\n",
      "Alternately, you can use the following kernel after setting `download_datasets = True`."
     ]
    },
    {
     "cell_type": "code",
     "collapsed": false,
     "input": [
      "download_datasets = False\n",
      "if download_datasets:\n",
      "    !curl -sSO http://yt-project.org/data/GadgetDiskGalaxy.tar.gz\n",
      "    print \"Got GadgetDiskGalaxy\"\n",
      "    !tar xzf GadgetDiskGalaxy.tar.gz\n",
      "    \n",
      "    !curl -sSO http://yt-project.org/data/agora_1e11.00400.tar.gz\n",
      "    print \"agora_1e11.00400\"\n",
      "    !tar xzf agora_1e11.00400.tar.gz\n",
      "    \n",
      "    !curl -sSO http://yt-project.org/data/enzo_tiny_cosmology.tar.gz\n",
      "    print \"Got enzo_tiny_cosmology\"\n",
      "    !tar xzf enzo_tiny_cosmology.tar.gz\n",
      "    \n",
      "    print \"All done!\""
     ],
     "language": "python",
     "metadata": {},
     "outputs": [],
     "prompt_number": "*"
    },
    {
     "cell_type": "heading",
     "level": 1,
     "metadata": {},
     "source": [
      "Loading Data"
     ]
    },
    {
     "cell_type": "code",
     "collapsed": false,
     "input": [
      "import yt\n",
      "ds = yt.load(\"/home/langmm/yt_datasets/GadgetDiskGalaxy/snapshot_200.hdf5\")"
     ],
     "language": "python",
     "metadata": {},
     "outputs": [],
     "prompt_number": "*"
    },
    {
     "cell_type": "code",
     "collapsed": false,
     "input": [],
     "language": "python",
     "metadata": {},
     "outputs": []
    }
   ],
   "metadata": {}
  }
 ]
}